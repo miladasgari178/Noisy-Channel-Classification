{
  "nbformat": 4,
  "nbformat_minor": 0,
  "metadata": {
    "colab": {
      "provenance": [],
      "gpuType": "T4"
    },
    "kernelspec": {
      "name": "python3",
      "display_name": "Python 3"
    },
    "language_info": {
      "name": "python"
    },
    "accelerator": "GPU"
  },
  "cells": [
    {
      "cell_type": "code",
      "source": [
        "# import\n",
        "\n",
        "import torch\n",
        "import torchvision\n",
        "import torchvision.transforms as transforms\n",
        "import torch.nn as nn\n",
        "import torch.optim as optim\n",
        "import matplotlib.pyplot as plt\n",
        "import math"
      ],
      "metadata": {
        "id": "H6-mz5Gg3hxf"
      },
      "execution_count": null,
      "outputs": []
    },
    {
      "cell_type": "code",
      "source": [
        "# Set device\n",
        "device = torch.device(\"cuda\" if torch.cuda.is_available() else \"cpu\")"
      ],
      "metadata": {
        "id": "ES_pHrQc3jZv"
      },
      "execution_count": null,
      "outputs": []
    },
    {
      "cell_type": "code",
      "source": [
        "# Hyperparameters\n",
        "num_epochs = 25\n",
        "batch_size = 64\n",
        "learning_rate = 0.001\n"
      ],
      "metadata": {
        "id": "w0hE9sF_3k16"
      },
      "execution_count": null,
      "outputs": []
    },
    {
      "cell_type": "code",
      "source": [
        "# Load CIFAR-100 dataset and apply transformations\n",
        "transform = transforms.Compose([\n",
        "    transforms.ToTensor(),\n",
        "    transforms.Normalize((0.5, 0.5, 0.5), (0.5, 0.5, 0.5))\n",
        "])\n",
        "\n",
        "train_dataset = torchvision.datasets.CIFAR100(root='./data', train=True, download=True, transform=transform)\n",
        "train_loader = torch.utils.data.DataLoader(train_dataset, batch_size=batch_size, shuffle=True)\n",
        "\n",
        "test_dataset = torchvision.datasets.CIFAR100(root='./data', train=False, download=True, transform=transform)\n",
        "test_loader = torch.utils.data.DataLoader(test_dataset, batch_size=batch_size, shuffle=False)"
      ],
      "metadata": {
        "colab": {
          "base_uri": "https://localhost:8080/"
        },
        "id": "U_3xJox_3mU6",
        "outputId": "3940df3c-2929-4f35-f237-edecec637942"
      },
      "execution_count": null,
      "outputs": [
        {
          "output_type": "stream",
          "name": "stdout",
          "text": [
            "Files already downloaded and verified\n",
            "Files already downloaded and verified\n"
          ]
        }
      ]
    },
    {
      "cell_type": "code",
      "source": [
        "class GaussianNoiseLayer(nn.Module):\n",
        "    def __init__(self, std_dev):\n",
        "        super(GaussianNoiseLayer, self).__init__()\n",
        "        self.std_dev = std_dev\n",
        "    def forward(self, x):\n",
        "        noise = torch.randn_like(x) * self.std_dev\n",
        "        return x + noise"
      ],
      "metadata": {
        "id": "1QANWXpv3oMq"
      },
      "execution_count": null,
      "outputs": []
    },
    {
      "cell_type": "code",
      "source": [
        "\n",
        "class Autoencoder(nn.Module):\n",
        "    def __init__(self):\n",
        "        super(Autoencoder, self).__init__()\n",
        "        self.gaussian_noise = GaussianNoiseLayer(std_dev=0.0)\n",
        "        self.encoder = nn.Sequential(\n",
        "            nn.Conv2d(3, 16, kernel_size=3, stride=2, padding=1),\n",
        "            nn.ReLU(),\n",
        "            nn.Conv2d(16, 8, kernel_size=3, stride=2, padding=1),\n",
        "            nn.ReLU()\n",
        "        )\n",
        "        self.decoder = nn.Sequential(\n",
        "            nn.ConvTranspose2d(8, 16, kernel_size=3, stride=2, padding=1, output_padding=1),\n",
        "            nn.ReLU(),\n",
        "            nn.ConvTranspose2d(16, 3, kernel_size=3, stride=2, padding=1, output_padding=1),\n",
        "            nn.Tanh()\n",
        "        )\n",
        "\n",
        "    def forward(self, x):\n",
        "        x = self.encoder(x)\n",
        "        x = (8*8*8)*x/torch.norm(x)\n",
        "        x = self.gaussian_noise(x)\n",
        "        x = self.decoder(x)\n",
        "        return x\n",
        "\n"
      ],
      "metadata": {
        "id": "V9MTG2Jr3pln"
      },
      "execution_count": null,
      "outputs": []
    },
    {
      "cell_type": "code",
      "source": [
        "from torchsummary import summary\n",
        "\n",
        "# Instantiate the autoencoder model\n",
        "model = Autoencoder().to(device)\n",
        "\n",
        "# Display the model summary\n",
        "summary(model, (3, 32,32))\n"
      ],
      "metadata": {
        "colab": {
          "base_uri": "https://localhost:8080/"
        },
        "id": "9nU6hSTo3sXN",
        "outputId": "f5e93159-dbce-441e-c3ec-fc6e22570f9d"
      },
      "execution_count": null,
      "outputs": [
        {
          "output_type": "stream",
          "name": "stdout",
          "text": [
            "----------------------------------------------------------------\n",
            "        Layer (type)               Output Shape         Param #\n",
            "================================================================\n",
            "            Conv2d-1           [-1, 16, 16, 16]             448\n",
            "              ReLU-2           [-1, 16, 16, 16]               0\n",
            "            Conv2d-3              [-1, 8, 8, 8]           1,160\n",
            "              ReLU-4              [-1, 8, 8, 8]               0\n",
            "GaussianNoiseLayer-5              [-1, 8, 8, 8]               0\n",
            "   ConvTranspose2d-6           [-1, 16, 16, 16]           1,168\n",
            "              ReLU-7           [-1, 16, 16, 16]               0\n",
            "   ConvTranspose2d-8            [-1, 3, 32, 32]             435\n",
            "              Tanh-9            [-1, 3, 32, 32]               0\n",
            "================================================================\n",
            "Total params: 3,211\n",
            "Trainable params: 3,211\n",
            "Non-trainable params: 0\n",
            "----------------------------------------------------------------\n",
            "Input size (MB): 0.01\n",
            "Forward/backward pass size (MB): 0.18\n",
            "Params size (MB): 0.01\n",
            "Estimated Total Size (MB): 0.21\n",
            "----------------------------------------------------------------\n"
          ]
        }
      ]
    },
    {
      "cell_type": "code",
      "source": [
        "# Loss function and optimizer\n",
        "criterion = nn.MSELoss()\n",
        "optimizer = optim.Adam(model.parameters(), lr=learning_rate)\n",
        "\n",
        "# Training the autoencoder\n",
        "total_step = len(train_loader)\n",
        "for epoch in range(num_epochs):\n",
        "    for i, (images, _) in enumerate(train_loader):\n",
        "        images = images.to(device)\n",
        "\n",
        "        # Forward pass\n",
        "        outputs = model(images)\n",
        "        loss = criterion(outputs, images)\n",
        "\n",
        "        # Backward and optimize\n",
        "        optimizer.zero_grad()\n",
        "        loss.backward()\n",
        "        optimizer.step()\n",
        "\n",
        "        if (i+1) % 100 == 0:\n",
        "            print('Epoch [{}/{}], Step [{}/{}], Loss: {:.4f}'\n",
        "                  .format(epoch+1, num_epochs, i+1, total_step, loss.item()))\n"
      ],
      "metadata": {
        "colab": {
          "base_uri": "https://localhost:8080/"
        },
        "id": "MbrNgLRK3ys9",
        "outputId": "e083eeb1-54d3-4af0-eb49-f4972f1370ec"
      },
      "execution_count": null,
      "outputs": [
        {
          "output_type": "stream",
          "name": "stdout",
          "text": [
            "Epoch [1/25], Step [100/782], Loss: 0.0572\n",
            "Epoch [1/25], Step [200/782], Loss: 0.0266\n",
            "Epoch [1/25], Step [300/782], Loss: 0.0226\n",
            "Epoch [1/25], Step [400/782], Loss: 0.0190\n",
            "Epoch [1/25], Step [500/782], Loss: 0.0165\n",
            "Epoch [1/25], Step [600/782], Loss: 0.0162\n",
            "Epoch [1/25], Step [700/782], Loss: 0.0141\n",
            "Epoch [2/25], Step [100/782], Loss: 0.0130\n",
            "Epoch [2/25], Step [200/782], Loss: 0.0141\n",
            "Epoch [2/25], Step [300/782], Loss: 0.0119\n",
            "Epoch [2/25], Step [400/782], Loss: 0.0110\n",
            "Epoch [2/25], Step [500/782], Loss: 0.0132\n",
            "Epoch [2/25], Step [600/782], Loss: 0.0121\n",
            "Epoch [2/25], Step [700/782], Loss: 0.0120\n",
            "Epoch [3/25], Step [100/782], Loss: 0.0114\n",
            "Epoch [3/25], Step [200/782], Loss: 0.0129\n",
            "Epoch [3/25], Step [300/782], Loss: 0.0114\n",
            "Epoch [3/25], Step [400/782], Loss: 0.0128\n",
            "Epoch [3/25], Step [500/782], Loss: 0.0119\n",
            "Epoch [3/25], Step [600/782], Loss: 0.0101\n",
            "Epoch [3/25], Step [700/782], Loss: 0.0111\n",
            "Epoch [4/25], Step [100/782], Loss: 0.0112\n",
            "Epoch [4/25], Step [200/782], Loss: 0.0094\n",
            "Epoch [4/25], Step [300/782], Loss: 0.0117\n",
            "Epoch [4/25], Step [400/782], Loss: 0.0103\n",
            "Epoch [4/25], Step [500/782], Loss: 0.0104\n",
            "Epoch [4/25], Step [600/782], Loss: 0.0101\n",
            "Epoch [4/25], Step [700/782], Loss: 0.0116\n",
            "Epoch [5/25], Step [100/782], Loss: 0.0099\n",
            "Epoch [5/25], Step [200/782], Loss: 0.0096\n",
            "Epoch [5/25], Step [300/782], Loss: 0.0095\n",
            "Epoch [5/25], Step [400/782], Loss: 0.0097\n",
            "Epoch [5/25], Step [500/782], Loss: 0.0093\n",
            "Epoch [5/25], Step [600/782], Loss: 0.0099\n",
            "Epoch [5/25], Step [700/782], Loss: 0.0094\n",
            "Epoch [6/25], Step [100/782], Loss: 0.0103\n",
            "Epoch [6/25], Step [200/782], Loss: 0.0084\n",
            "Epoch [6/25], Step [300/782], Loss: 0.0098\n",
            "Epoch [6/25], Step [400/782], Loss: 0.0101\n",
            "Epoch [6/25], Step [500/782], Loss: 0.0102\n",
            "Epoch [6/25], Step [600/782], Loss: 0.0109\n",
            "Epoch [6/25], Step [700/782], Loss: 0.0101\n",
            "Epoch [7/25], Step [100/782], Loss: 0.0087\n",
            "Epoch [7/25], Step [200/782], Loss: 0.0090\n",
            "Epoch [7/25], Step [300/782], Loss: 0.0095\n",
            "Epoch [7/25], Step [400/782], Loss: 0.0080\n",
            "Epoch [7/25], Step [500/782], Loss: 0.0106\n",
            "Epoch [7/25], Step [600/782], Loss: 0.0093\n",
            "Epoch [7/25], Step [700/782], Loss: 0.0098\n",
            "Epoch [8/25], Step [100/782], Loss: 0.0089\n",
            "Epoch [8/25], Step [200/782], Loss: 0.0092\n",
            "Epoch [8/25], Step [300/782], Loss: 0.0085\n",
            "Epoch [8/25], Step [400/782], Loss: 0.0103\n",
            "Epoch [8/25], Step [500/782], Loss: 0.0098\n",
            "Epoch [8/25], Step [600/782], Loss: 0.0081\n",
            "Epoch [8/25], Step [700/782], Loss: 0.0088\n",
            "Epoch [9/25], Step [100/782], Loss: 0.0087\n",
            "Epoch [9/25], Step [200/782], Loss: 0.0081\n",
            "Epoch [9/25], Step [300/782], Loss: 0.0103\n",
            "Epoch [9/25], Step [400/782], Loss: 0.0095\n",
            "Epoch [9/25], Step [500/782], Loss: 0.0094\n",
            "Epoch [9/25], Step [600/782], Loss: 0.0096\n",
            "Epoch [9/25], Step [700/782], Loss: 0.0088\n",
            "Epoch [10/25], Step [100/782], Loss: 0.0091\n",
            "Epoch [10/25], Step [200/782], Loss: 0.0086\n",
            "Epoch [10/25], Step [300/782], Loss: 0.0094\n",
            "Epoch [10/25], Step [400/782], Loss: 0.0091\n",
            "Epoch [10/25], Step [500/782], Loss: 0.0087\n",
            "Epoch [10/25], Step [600/782], Loss: 0.0082\n",
            "Epoch [10/25], Step [700/782], Loss: 0.0101\n",
            "Epoch [11/25], Step [100/782], Loss: 0.0088\n",
            "Epoch [11/25], Step [200/782], Loss: 0.0103\n",
            "Epoch [11/25], Step [300/782], Loss: 0.0098\n",
            "Epoch [11/25], Step [400/782], Loss: 0.0082\n",
            "Epoch [11/25], Step [500/782], Loss: 0.0083\n",
            "Epoch [11/25], Step [600/782], Loss: 0.0093\n",
            "Epoch [11/25], Step [700/782], Loss: 0.0081\n",
            "Epoch [12/25], Step [100/782], Loss: 0.0079\n",
            "Epoch [12/25], Step [200/782], Loss: 0.0087\n",
            "Epoch [12/25], Step [300/782], Loss: 0.0103\n",
            "Epoch [12/25], Step [400/782], Loss: 0.0086\n",
            "Epoch [12/25], Step [500/782], Loss: 0.0081\n",
            "Epoch [12/25], Step [600/782], Loss: 0.0087\n",
            "Epoch [12/25], Step [700/782], Loss: 0.0092\n",
            "Epoch [13/25], Step [100/782], Loss: 0.0078\n",
            "Epoch [13/25], Step [200/782], Loss: 0.0089\n",
            "Epoch [13/25], Step [300/782], Loss: 0.0087\n",
            "Epoch [13/25], Step [400/782], Loss: 0.0082\n",
            "Epoch [13/25], Step [500/782], Loss: 0.0074\n",
            "Epoch [13/25], Step [600/782], Loss: 0.0088\n",
            "Epoch [13/25], Step [700/782], Loss: 0.0084\n",
            "Epoch [14/25], Step [100/782], Loss: 0.0092\n",
            "Epoch [14/25], Step [200/782], Loss: 0.0090\n",
            "Epoch [14/25], Step [300/782], Loss: 0.0094\n",
            "Epoch [14/25], Step [400/782], Loss: 0.0091\n",
            "Epoch [14/25], Step [500/782], Loss: 0.0090\n",
            "Epoch [14/25], Step [600/782], Loss: 0.0087\n",
            "Epoch [14/25], Step [700/782], Loss: 0.0082\n",
            "Epoch [15/25], Step [100/782], Loss: 0.0092\n",
            "Epoch [15/25], Step [200/782], Loss: 0.0090\n",
            "Epoch [15/25], Step [300/782], Loss: 0.0094\n",
            "Epoch [15/25], Step [400/782], Loss: 0.0080\n",
            "Epoch [15/25], Step [500/782], Loss: 0.0079\n",
            "Epoch [15/25], Step [600/782], Loss: 0.0089\n",
            "Epoch [15/25], Step [700/782], Loss: 0.0089\n",
            "Epoch [16/25], Step [100/782], Loss: 0.0099\n",
            "Epoch [16/25], Step [200/782], Loss: 0.0092\n",
            "Epoch [16/25], Step [300/782], Loss: 0.0075\n",
            "Epoch [16/25], Step [400/782], Loss: 0.0077\n",
            "Epoch [16/25], Step [500/782], Loss: 0.0085\n",
            "Epoch [16/25], Step [600/782], Loss: 0.0082\n",
            "Epoch [16/25], Step [700/782], Loss: 0.0083\n",
            "Epoch [17/25], Step [100/782], Loss: 0.0091\n",
            "Epoch [17/25], Step [200/782], Loss: 0.0081\n",
            "Epoch [17/25], Step [300/782], Loss: 0.0084\n",
            "Epoch [17/25], Step [400/782], Loss: 0.0082\n",
            "Epoch [17/25], Step [500/782], Loss: 0.0080\n",
            "Epoch [17/25], Step [600/782], Loss: 0.0087\n",
            "Epoch [17/25], Step [700/782], Loss: 0.0091\n",
            "Epoch [18/25], Step [100/782], Loss: 0.0084\n",
            "Epoch [18/25], Step [200/782], Loss: 0.0082\n",
            "Epoch [18/25], Step [300/782], Loss: 0.0095\n",
            "Epoch [18/25], Step [400/782], Loss: 0.0074\n",
            "Epoch [18/25], Step [500/782], Loss: 0.0093\n",
            "Epoch [18/25], Step [600/782], Loss: 0.0097\n",
            "Epoch [18/25], Step [700/782], Loss: 0.0096\n",
            "Epoch [19/25], Step [100/782], Loss: 0.0075\n",
            "Epoch [19/25], Step [200/782], Loss: 0.0086\n",
            "Epoch [19/25], Step [300/782], Loss: 0.0084\n",
            "Epoch [19/25], Step [400/782], Loss: 0.0086\n",
            "Epoch [19/25], Step [500/782], Loss: 0.0076\n",
            "Epoch [19/25], Step [600/782], Loss: 0.0087\n",
            "Epoch [19/25], Step [700/782], Loss: 0.0091\n",
            "Epoch [20/25], Step [100/782], Loss: 0.0089\n",
            "Epoch [20/25], Step [200/782], Loss: 0.0085\n",
            "Epoch [20/25], Step [300/782], Loss: 0.0076\n",
            "Epoch [20/25], Step [400/782], Loss: 0.0086\n",
            "Epoch [20/25], Step [500/782], Loss: 0.0080\n",
            "Epoch [20/25], Step [600/782], Loss: 0.0088\n",
            "Epoch [20/25], Step [700/782], Loss: 0.0088\n",
            "Epoch [21/25], Step [100/782], Loss: 0.0094\n",
            "Epoch [21/25], Step [200/782], Loss: 0.0093\n",
            "Epoch [21/25], Step [300/782], Loss: 0.0090\n",
            "Epoch [21/25], Step [400/782], Loss: 0.0090\n",
            "Epoch [21/25], Step [500/782], Loss: 0.0085\n",
            "Epoch [21/25], Step [600/782], Loss: 0.0092\n",
            "Epoch [21/25], Step [700/782], Loss: 0.0080\n",
            "Epoch [22/25], Step [100/782], Loss: 0.0092\n",
            "Epoch [22/25], Step [200/782], Loss: 0.0085\n",
            "Epoch [22/25], Step [300/782], Loss: 0.0097\n",
            "Epoch [22/25], Step [400/782], Loss: 0.0102\n",
            "Epoch [22/25], Step [500/782], Loss: 0.0083\n",
            "Epoch [22/25], Step [600/782], Loss: 0.0093\n",
            "Epoch [22/25], Step [700/782], Loss: 0.0085\n",
            "Epoch [23/25], Step [100/782], Loss: 0.0087\n",
            "Epoch [23/25], Step [200/782], Loss: 0.0090\n",
            "Epoch [23/25], Step [300/782], Loss: 0.0078\n",
            "Epoch [23/25], Step [400/782], Loss: 0.0079\n",
            "Epoch [23/25], Step [500/782], Loss: 0.0090\n",
            "Epoch [23/25], Step [600/782], Loss: 0.0082\n",
            "Epoch [23/25], Step [700/782], Loss: 0.0080\n",
            "Epoch [24/25], Step [100/782], Loss: 0.0088\n",
            "Epoch [24/25], Step [200/782], Loss: 0.0092\n",
            "Epoch [24/25], Step [300/782], Loss: 0.0079\n",
            "Epoch [24/25], Step [400/782], Loss: 0.0083\n",
            "Epoch [24/25], Step [500/782], Loss: 0.0088\n",
            "Epoch [24/25], Step [600/782], Loss: 0.0092\n",
            "Epoch [24/25], Step [700/782], Loss: 0.0084\n",
            "Epoch [25/25], Step [100/782], Loss: 0.0086\n",
            "Epoch [25/25], Step [200/782], Loss: 0.0078\n",
            "Epoch [25/25], Step [300/782], Loss: 0.0085\n",
            "Epoch [25/25], Step [400/782], Loss: 0.0088\n",
            "Epoch [25/25], Step [500/782], Loss: 0.0096\n",
            "Epoch [25/25], Step [600/782], Loss: 0.0092\n",
            "Epoch [25/25], Step [700/782], Loss: 0.0088\n"
          ]
        }
      ]
    },
    {
      "cell_type": "code",
      "source": [
        "# Testing the autoencoder\n",
        "model.eval()\n",
        "with torch.no_grad():\n",
        "    for images, _ in test_loader:\n",
        "        images = images.to(device)\n",
        "        outputs = model(images)\n",
        "        break"
      ],
      "metadata": {
        "id": "1we2q8BlrkOL"
      },
      "execution_count": null,
      "outputs": []
    },
    {
      "cell_type": "code",
      "source": [
        "import numpy as np\n",
        "\n",
        "# Plotting the original and reconstructed images\n",
        "def imshow(img):\n",
        "    img = img / 2 + 0.5  # Unnormalize\n",
        "    npimg = img.detach().cpu().numpy()\n",
        "    plt.imshow(np.transpose(npimg, (1, 2, 0)))\n",
        "    plt.axis('off')\n",
        "    plt.show()\n",
        "\n",
        "# Display original images\n",
        "print('Original Images:')\n",
        "imshow(torchvision.utils.make_grid(images[5]))\n",
        "imshow(torchvision.utils.make_grid(outputs[5]))\n",
        "# Display reconstructed images\n",
        "print('Reconstructed Images:')\n",
        "imshow(torchvision.utils.make_grid(images[11]))\n",
        "imshow(torchvision.utils.make_grid(outputs[11]))"
      ],
      "metadata": {
        "colab": {
          "base_uri": "https://localhost:8080/",
          "height": 1000
        },
        "id": "aGyALeXB5zU5",
        "outputId": "1d49074a-c3f7-4c5e-a9f4-f056447b91d8"
      },
      "execution_count": null,
      "outputs": [
        {
          "output_type": "stream",
          "name": "stdout",
          "text": [
            "Original Images:\n"
          ]
        },
        {
          "output_type": "display_data",
          "data": {
            "text/plain": [
              "<Figure size 640x480 with 1 Axes>"
            ],
            "image/png": "[encoded data removed]"
          },
          "metadata": {}
        },
        {
          "output_type": "display_data",
          "data": {
            "text/plain": [
              "<Figure size 640x480 with 1 Axes>"
            ],
            "image/png": "[encoded data removed]"
          },
          "metadata": {}
        },
        {
          "output_type": "stream",
          "name": "stdout",
          "text": [
            "Reconstructed Images:\n"
          ]
        },
        {
          "output_type": "display_data",
          "data": {
            "text/plain": [
              "<Figure size 640x480 with 1 Axes>"
            ],
            "image/png": "[encoded data removed]"
          },
          "metadata": {}
        },
        {
          "output_type": "display_data",
          "data": {
            "text/plain": [
              "<Figure size 640x480 with 1 Axes>"
            ],
            "image/png": "[encoded data removed]"
          },
          "metadata": {}
        }
      ]
    },
    {
      "cell_type": "code",
      "source": [
        "torch.save(model,\"comm_model_std00.pt\")"
      ],
      "metadata": {
        "id": "x-aJGA6etCqX"
      },
      "execution_count": null,
      "outputs": []
    },
    {
      "cell_type": "code",
      "source": [
        "from google.colab import files\n",
        "files.download(\"comm_model_std00.pt\")"
      ],
      "metadata": {
        "colab": {
          "base_uri": "https://localhost:8080/",
          "height": 17
        },
        "id": "VBMSODiptVv9",
        "outputId": "d84e6376-fad8-4c08-ce0a-fa41f180bf0d"
      },
      "execution_count": null,
      "outputs": [
        {
          "output_type": "display_data",
          "data": {
            "text/plain": [
              "<IPython.core.display.Javascript object>"
            ],
            "application/javascript": [
              "\n",
              "    async function download(id, filename, size) {\n",
              "      if (!google.colab.kernel.accessAllowed) {\n",
              "        return;\n",
              "      }\n",
              "      const div = document.createElement('div');\n",
              "      const label = document.createElement('label');\n",
              "      label.textContent = `Downloading \"${filename}\": `;\n",
              "      div.appendChild(label);\n",
              "      const progress = document.createElement('progress');\n",
              "      progress.max = size;\n",
              "      div.appendChild(progress);\n",
              "      document.body.appendChild(div);\n",
              "\n",
              "      const buffers = [];\n",
              "      let downloaded = 0;\n",
              "\n",
              "      const channel = await google.colab.kernel.comms.open(id);\n",
              "      // Send a message to notify the kernel that we're ready.\n",
              "      channel.send({})\n",
              "\n",
              "      for await (const message of channel.messages) {\n",
              "        // Send a message to notify the kernel that we're ready.\n",
              "        channel.send({})\n",
              "        if (message.buffers) {\n",
              "          for (const buffer of message.buffers) {\n",
              "            buffers.push(buffer);\n",
              "            downloaded += buffer.byteLength;\n",
              "            progress.value = downloaded;\n",
              "          }\n",
              "        }\n",
              "      }\n",
              "      const blob = new Blob(buffers, {type: 'application/binary'});\n",
              "      const a = document.createElement('a');\n",
              "      a.href = window.URL.createObjectURL(blob);\n",
              "      a.download = filename;\n",
              "      div.appendChild(a);\n",
              "      a.click();\n",
              "      div.remove();\n",
              "    }\n",
              "  "
            ]
          },
          "metadata": {}
        },
        {
          "output_type": "display_data",
          "data": {
            "text/plain": [
              "<IPython.core.display.Javascript object>"
            ],
            "application/javascript": [
              "download(\"download_0cbcb65f-07be-47f6-9797-28ecd5da4ad7\", \"comm_model_std00.pt\", 18921)"
            ]
          },
          "metadata": {}
        }
      ]
    }
  ]
}