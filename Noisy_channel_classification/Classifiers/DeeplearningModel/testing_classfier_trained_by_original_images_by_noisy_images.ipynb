{
  "nbformat": 4,
  "nbformat_minor": 0,
  "metadata": {
    "colab": {
      "provenance": [],
      "gpuType": "V100"
    },
    "kernelspec": {
      "name": "python3",
      "display_name": "Python 3"
    },
    "language_info": {
      "name": "python"
    }
  },
  "cells": [
    {
      "cell_type": "code",
      "execution_count": null,
      "metadata": {
        "id": "saF8P9mWZwJL"
      },
      "outputs": [],
      "source": [
        "# imports\n",
        "import torch\n",
        "import torch.nn as nn\n",
        "import torch.optim as optim\n",
        "import torchvision\n",
        "import torchvision.transforms as transforms\n",
        "from torchvision.datasets import CIFAR10"
      ]
    },
    {
      "cell_type": "code",
      "source": [
        "#loading data and preprocessing\n",
        "\n",
        "# Define the transformation for preprocessing the data\n",
        "\n",
        "# define transforms for images\n",
        "transform = transforms.Compose(\n",
        "              [transforms.ToTensor(),\n",
        "              transforms.Normalize((0.5, 0.5, 0.5), (0.5, 0.5, 0.5))])\n",
        "\n",
        "# Load the CIFAR-100 training and test datasets\n",
        "\n",
        "cifar10_train = CIFAR10(root='./data', train=True, download=True, transform=transform)\n",
        "cifar10_test = CIFAR10(root='./data', train=False, download=True, transform=transform)\n",
        "\n",
        "train_loader = torch.utils.data.DataLoader(cifar10_train, batch_size=32, shuffle=True)\n",
        "test_loader = torch.utils.data.DataLoader(cifar10_test, batch_size=32, shuffle=True)"
      ],
      "metadata": {
        "colab": {
          "base_uri": "https://localhost:8080/"
        },
        "id": "HRcAdufkuBqd",
        "outputId": "5b3288e9-51e1-4f1c-d0be-181201fa0e25"
      },
      "execution_count": null,
      "outputs": [
        {
          "output_type": "stream",
          "name": "stdout",
          "text": [
            "Downloading https://www.cs.toronto.edu/~kriz/cifar-10-python.tar.gz to ./data/cifar-10-python.tar.gz\n"
          ]
        },
        {
          "output_type": "stream",
          "name": "stderr",
          "text": [
            "100%|██████████| 170498071/170498071 [00:06<00:00, 24873310.70it/s]\n"
          ]
        },
        {
          "output_type": "stream",
          "name": "stdout",
          "text": [
            "Extracting ./data/cifar-10-python.tar.gz to ./data\n",
            "Files already downloaded and verified\n"
          ]
        }
      ]
    },
    {
      "cell_type": "code",
      "source": [
        "# define device\n",
        "device = torch.device(\"cuda\" if torch.cuda.is_available() else \"cpu\")"
      ],
      "metadata": {
        "id": "b2vtF-qXuEab"
      },
      "execution_count": null,
      "outputs": []
    },
    {
      "cell_type": "code",
      "source": [
        "import torchvision.models as models\n",
        "# Load the EfficientNetB0 model\n",
        "effnet = models.efficientnet_b0(pretrained=True)\n",
        "\n",
        "# Remove the last layer (classifier)\n",
        "effnet.classifier = torch.nn.Identity()"
      ],
      "metadata": {
        "colab": {
          "base_uri": "https://localhost:8080/"
        },
        "id": "Aa3SRA9zuIQZ",
        "outputId": "c0359ae8-2f6a-4501-8c99-374920b7e30e"
      },
      "execution_count": null,
      "outputs": [
        {
          "output_type": "stream",
          "name": "stderr",
          "text": [
            "/usr/local/lib/python3.10/dist-packages/torchvision/models/_utils.py:208: UserWarning: The parameter 'pretrained' is deprecated since 0.13 and may be removed in the future, please use 'weights' instead.\n",
            "  warnings.warn(\n",
            "/usr/local/lib/python3.10/dist-packages/torchvision/models/_utils.py:223: UserWarning: Arguments other than a weight enum or `None` for 'weights' are deprecated since 0.13 and may be removed in the future. The current behavior is equivalent to passing `weights=EfficientNet_B0_Weights.IMAGENET1K_V1`. You can also use `weights=EfficientNet_B0_Weights.DEFAULT` to get the most up-to-date weights.\n",
            "  warnings.warn(msg)\n",
            "Downloading: \"https://download.pytorch.org/models/efficientnet_b0_rwightman-3dd342df.pth\" to /root/.cache/torch/hub/checkpoints/efficientnet_b0_rwightman-3dd342df.pth\n",
            "100%|██████████| 20.5M/20.5M [00:00<00:00, 60.3MB/s]\n"
          ]
        }
      ]
    },
    {
      "cell_type": "code",
      "source": [
        "class Cifar10ClassfierModel(nn.Module):\n",
        "    def __init__(self, effnet, num_classes):\n",
        "        super(Cifar10ClassfierModel, self).__init__()\n",
        "        self.effnet = effnet\n",
        "        self.relu = nn.ReLU()\n",
        "        self.batch_norm = nn.BatchNorm2d(1280)\n",
        "        self.dropout = nn.Dropout(p=0.5)\n",
        "        self.dense1 = nn.Linear(1280, 640)\n",
        "        self.dense2 = nn.Linear(640, 320)\n",
        "        self.dense3 = nn.Linear(320, 160)\n",
        "        self.dense4 = nn.Linear(160, 10)\n",
        "        self.dense = nn.Linear(1280, num_classes)\n",
        "        self.sigmoid = nn.Sigmoid()\n",
        "\n",
        "    def forward(self, x):\n",
        "        x = self.effnet(x)\n",
        "        x = self.dense1(x)\n",
        "        x = self.relu(x)\n",
        "        x = self.dense2(x)\n",
        "        x = self.relu(x)\n",
        "        x = self.dense3(x)\n",
        "        x = self.relu(x)\n",
        "        x = self.dropout(x)\n",
        "        x = self.dense4(x)\n",
        "        # x = self.sigmoid(x)\n",
        "        return x"
      ],
      "metadata": {
        "id": "EygBxyStuK6p"
      },
      "execution_count": null,
      "outputs": []
    },
    {
      "cell_type": "code",
      "source": [
        "import os\n",
        "\n",
        "# Get the current working directory\n",
        "current_path = os.getcwd()\n",
        "# Load the trained weights\n",
        "path=current_path+'/cifar10_classifier_model.pth'\n",
        "\n",
        "pre_trained_classfier  = torch.load(path)\n"
      ],
      "metadata": {
        "id": "Gw8KKn33ur7h"
      },
      "execution_count": null,
      "outputs": []
    },
    {
      "cell_type": "code",
      "source": [
        "#Testing  pre-trained model\n",
        "correct = 0\n",
        "total = 0\n",
        "pre_trained_classfier.to(device)\n",
        "with torch.no_grad():\n",
        "    for data in test_loader:\n",
        "        images, labels = data\n",
        "        images, labels = images.to(device), labels.to(device)\n",
        "        outputs = pre_trained_classfier(images)\n",
        "        _, predicted = torch.max(outputs.data, 1)\n",
        "        total += labels.size(0)\n",
        "        correct += (predicted == labels).sum().item()\n",
        "\n",
        "accuracy = 100 * correct / total\n",
        "print('Accuracy on the test set: %.2f %%' % accuracy)"
      ],
      "metadata": {
        "id": "Ff6nDnkjvc8q",
        "colab": {
          "base_uri": "https://localhost:8080/"
        },
        "outputId": "8ca9e2b1-3659-467e-dfc8-d9071a1a59ac"
      },
      "execution_count": null,
      "outputs": [
        {
          "output_type": "stream",
          "name": "stdout",
          "text": [
            "Accuracy on the test set: 84.94 %\n"
          ]
        }
      ]
    },
    {
      "cell_type": "code",
      "source": [
        "# define gausian noise\n",
        "class GaussianNoiseLayer(nn.Module):\n",
        "    def __init__(self, std_dev):\n",
        "        super(GaussianNoiseLayer, self).__init__()\n",
        "        self.std_dev = std_dev\n",
        "    def forward(self, x):\n",
        "        noise = torch.randn_like(x) * self.std_dev\n",
        "        return x + noise\n",
        "\n",
        "# define communication model\n",
        "class Autoencoder(nn.Module):\n",
        "    def __init__(self):\n",
        "        super(Autoencoder, self).__init__()\n",
        "        self.gaussian_noise = GaussianNoiseLayer(std_dev=0.0)\n",
        "        self.encoder = nn.Sequential(\n",
        "            nn.Conv2d(3, 16, kernel_size=3, stride=2, padding=1),\n",
        "            nn.ReLU(),\n",
        "            nn.Conv2d(16, 8, kernel_size=3, stride=2, padding=1),\n",
        "            nn.ReLU()\n",
        "        )\n",
        "        self.decoder = nn.Sequential(\n",
        "            nn.ConvTranspose2d(8, 16, kernel_size=3, stride=2, padding=1, output_padding=1),\n",
        "            nn.ReLU(),\n",
        "            nn.ConvTranspose2d(16, 3, kernel_size=3, stride=2, padding=1, output_padding=1),\n",
        "            nn.Tanh()\n",
        "        )\n",
        "\n",
        "\n",
        "    def forward(self, x):\n",
        "        x = self.encoder(x)\n",
        "        x = (8*8*8)*x/torch.norm(x)\n",
        "        x = self.gaussian_noise(x)\n",
        "        x = self.decoder(x)\n",
        "\n",
        "        return x\n"
      ],
      "metadata": {
        "id": "gWmR3KM9wril"
      },
      "execution_count": null,
      "outputs": []
    },
    {
      "cell_type": "code",
      "source": [
        "import os\n",
        "\n",
        "# Get the current working directory\n",
        "current_path = os.getcwd()\n",
        "\n",
        "# Load the trained weights\n",
        "path=current_path+'/comm_model_std00.pt'\n",
        "\n",
        "comm_model0  = torch.load(path)\n",
        "\n",
        "comm_model0.to(device)\n",
        "\n",
        "# Load the trained weights\n",
        "path=current_path+'/comm_model_std01.pt'\n",
        "\n",
        "comm_model1  = torch.load(path)\n",
        "\n",
        "comm_model1.to(device)\n",
        "\n",
        "# Load the trained weights\n",
        "path=current_path+'/comm_model_std04.pt'\n",
        "\n",
        "comm_model4  = torch.load(path)\n",
        "\n",
        "comm_model4.to(device)\n",
        "\n",
        "# Load the trained weights\n",
        "path=current_path+'/comm_model_std06.pt'\n",
        "\n",
        "comm_model6  = torch.load(path)\n",
        "\n",
        "comm_model6.to(device)"
      ],
      "metadata": {
        "colab": {
          "base_uri": "https://localhost:8080/"
        },
        "id": "RVD1lXtQxDN3",
        "outputId": "3c84a204-e600-45b7-8082-9ccdc4f9d3b2"
      },
      "execution_count": null,
      "outputs": [
        {
          "output_type": "execute_result",
          "data": {
            "text/plain": [
              "Autoencoder(\n",
              "  (gaussian_noise): GaussianNoiseLayer()\n",
              "  (encoder): Sequential(\n",
              "    (0): Conv2d(3, 16, kernel_size=(3, 3), stride=(2, 2), padding=(1, 1))\n",
              "    (1): ReLU()\n",
              "    (2): Conv2d(16, 8, kernel_size=(3, 3), stride=(2, 2), padding=(1, 1))\n",
              "    (3): ReLU()\n",
              "  )\n",
              "  (decoder): Sequential(\n",
              "    (0): ConvTranspose2d(8, 16, kernel_size=(3, 3), stride=(2, 2), padding=(1, 1), output_padding=(1, 1))\n",
              "    (1): ReLU()\n",
              "    (2): ConvTranspose2d(16, 3, kernel_size=(3, 3), stride=(2, 2), padding=(1, 1), output_padding=(1, 1))\n",
              "    (3): Tanh()\n",
              "  )\n",
              ")"
            ]
          },
          "metadata": {},
          "execution_count": 12
        }
      ]
    },
    {
      "cell_type": "code",
      "source": [
        "#Testing pre-trained classfier on communication channel with gausian noise with std 0\n",
        "correct = 0\n",
        "total = 0\n",
        "with torch.no_grad():\n",
        "    for data in test_loader:\n",
        "        images, labels = data\n",
        "        images, labels = images.to(device), labels.to(device)\n",
        "        # pre_trained_model_output=pre_trained_model(images)\n",
        "        noise_image=comm_model0(images)\n",
        "        outputs = pre_trained_classfier(noise_image)\n",
        "        _, predicted = torch.max(outputs.data, 1)\n",
        "        total += labels.size(0)\n",
        "        correct += (predicted == labels).sum().item()\n",
        "\n",
        "accuracy = 100 * correct / total\n",
        "print('Accuracy on the test set: %.2f %%' % accuracy)"
      ],
      "metadata": {
        "colab": {
          "base_uri": "https://localhost:8080/"
        },
        "id": "7Bli3p6wxsQA",
        "outputId": "0be748c2-c3f6-4661-88f0-2d927f204c16"
      },
      "execution_count": null,
      "outputs": [
        {
          "output_type": "stream",
          "name": "stdout",
          "text": [
            "Accuracy on the test set: 69.56 %\n"
          ]
        }
      ]
    },
    {
      "cell_type": "code",
      "source": [
        "#Testing pre-trained classfier on communication channel with gausian noise with std 0.1\n",
        "correct = 0\n",
        "total = 0\n",
        "with torch.no_grad():\n",
        "    for data in test_loader:\n",
        "        images, labels = data\n",
        "        images, labels = images.to(device), labels.to(device)\n",
        "        # pre_trained_model_output=pre_trained_model(images)\n",
        "        noise_image=comm_model1(images)\n",
        "        outputs = pre_trained_classfier(noise_image)\n",
        "        _, predicted = torch.max(outputs.data, 1)\n",
        "        total += labels.size(0)\n",
        "        correct += (predicted == labels).sum().item()\n",
        "\n",
        "accuracy = 100 * correct / total\n",
        "print('Accuracy on the test set: %.2f %%' % accuracy)"
      ],
      "metadata": {
        "colab": {
          "base_uri": "https://localhost:8080/"
        },
        "id": "6_GelOYoyKMi",
        "outputId": "a697f14c-13cd-4861-f797-77cdedc6decf"
      },
      "execution_count": null,
      "outputs": [
        {
          "output_type": "stream",
          "name": "stdout",
          "text": [
            "Accuracy on the test set: 73.46 %\n"
          ]
        }
      ]
    },
    {
      "cell_type": "code",
      "source": [
        "#Testing pre-trained classfier on communication channel with gausian noise with std 0.4\n",
        "correct = 0\n",
        "total = 0\n",
        "with torch.no_grad():\n",
        "    for data in test_loader:\n",
        "        images, labels = data\n",
        "        images, labels = images.to(device), labels.to(device)\n",
        "        # pre_trained_model_output=pre_trained_model(images)\n",
        "        noise_image=comm_model4(images)\n",
        "        outputs = pre_trained_classfier(noise_image)\n",
        "        _, predicted = torch.max(outputs.data, 1)\n",
        "        total += labels.size(0)\n",
        "        correct += (predicted == labels).sum().item()\n",
        "\n",
        "accuracy = 100 * correct / total\n",
        "print('Accuracy on the test set: %.2f %%' % accuracy)"
      ],
      "metadata": {
        "colab": {
          "base_uri": "https://localhost:8080/"
        },
        "id": "d3l_1AKfyQ1X",
        "outputId": "f17822e2-9006-4bc9-f519-b976761545f1"
      },
      "execution_count": null,
      "outputs": [
        {
          "output_type": "stream",
          "name": "stdout",
          "text": [
            "Accuracy on the test set: 68.34 %\n"
          ]
        }
      ]
    },
    {
      "cell_type": "code",
      "source": [
        "#Testing pre-trained classfier on communication channel with gausian noise with std 0.6\n",
        "correct = 0\n",
        "total = 0\n",
        "with torch.no_grad():\n",
        "    for data in test_loader:\n",
        "        images, labels = data\n",
        "        images, labels = images.to(device), labels.to(device)\n",
        "        # pre_trained_model_output=pre_trained_model(images)\n",
        "        noise_image=comm_model6(images)\n",
        "        outputs = pre_trained_classfier(noise_image)\n",
        "        _, predicted = torch.max(outputs.data, 1)\n",
        "        total += labels.size(0)\n",
        "        correct += (predicted == labels).sum().item()\n",
        "\n",
        "accuracy = 100 * correct / total\n",
        "print('Accuracy on the test set: %.2f %%' % accuracy)"
      ],
      "metadata": {
        "colab": {
          "base_uri": "https://localhost:8080/"
        },
        "id": "OgA4TNfZyTrE",
        "outputId": "6da7c0b7-fca4-4c86-bf13-13ef243c1042"
      },
      "execution_count": null,
      "outputs": [
        {
          "output_type": "stream",
          "name": "stdout",
          "text": [
            "Accuracy on the test set: 59.86 %\n"
          ]
        }
      ]
    }
  ]
}