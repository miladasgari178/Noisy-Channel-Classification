{
  "nbformat": 4,
  "nbformat_minor": 0,
  "metadata": {
    "colab": {
      "provenance": [],
      "gpuType": "V100"
    },
    "kernelspec": {
      "name": "python3",
      "display_name": "Python 3"
    },
    "language_info": {
      "name": "python"
    },
    "accelerator": "GPU"
  },
  "cells": [
    {
      "cell_type": "code",
      "execution_count": null,
      "metadata": {
        "id": "3WaJske_-HI9"
      },
      "outputs": [],
      "source": [
        "# import\n",
        "\n",
        "import torch\n",
        "import torchvision\n",
        "import torchvision.transforms as transforms\n",
        "from torchvision.datasets import CIFAR10\n",
        "import torch.nn as nn\n",
        "import torch.optim as optim\n",
        "import matplotlib.pyplot as plt\n",
        "import math\n"
      ]
    },
    {
      "cell_type": "code",
      "source": [
        "# Set device\n",
        "device = torch.device(\"cuda\" if torch.cuda.is_available() else \"cpu\")"
      ],
      "metadata": {
        "id": "eXGe8fVmHsY5"
      },
      "execution_count": null,
      "outputs": []
    },
    {
      "cell_type": "code",
      "source": [
        "# Hyperparameters\n",
        "num_epochs = 25\n",
        "batch_size = 64\n",
        "learning_rate = 0.001"
      ],
      "metadata": {
        "id": "FF1xqtxVH9At"
      },
      "execution_count": null,
      "outputs": []
    },
    {
      "cell_type": "code",
      "source": [
        "# Load CIFAR-100 dataset and apply transformations\n",
        "transform = transforms.Compose([\n",
        "    transforms.ToTensor(),\n",
        "    transforms.Normalize((0.5, 0.5, 0.5), (0.5, 0.5, 0.5))\n",
        "])\n",
        "\n",
        "train_dataset = torchvision.datasets.CIFAR100(root='./data', train=True, download=True, transform=transform)\n",
        "train_loader = torch.utils.data.DataLoader(train_dataset, batch_size=batch_size, shuffle=True)\n",
        "\n",
        "test_dataset = torchvision.datasets.CIFAR100(root='./data', train=False, download=True, transform=transform)\n",
        "test_loader = torch.utils.data.DataLoader(test_dataset, batch_size=batch_size, shuffle=False)"
      ],
      "metadata": {
        "colab": {
          "base_uri": "https://localhost:8080/"
        },
        "id": "zIC0dfVgIDo0",
        "outputId": "b6ffd319-0e68-4c4d-9e4c-6005d024b3d6"
      },
      "execution_count": null,
      "outputs": [
        {
          "output_type": "stream",
          "name": "stdout",
          "text": [
            "Files already downloaded and verified\n",
            "Files already downloaded and verified\n"
          ]
        }
      ]
    },
    {
      "cell_type": "code",
      "source": [
        "class GaussianNoiseLayer(nn.Module):\n",
        "    def __init__(self, std_dev):\n",
        "        super(GaussianNoiseLayer, self).__init__()\n",
        "        self.std_dev = std_dev\n",
        "    def forward(self, x):\n",
        "        noise = torch.randn_like(x) * self.std_dev\n",
        "        return x + noise"
      ],
      "metadata": {
        "id": "EOo27HB-IHMn"
      },
      "execution_count": null,
      "outputs": []
    },
    {
      "cell_type": "code",
      "source": [
        "class LatentSpaceClassfier(nn.Module):\n",
        "    def __init__(self):\n",
        "        super(LatentSpaceClassfier, self).__init__()\n",
        "        self.gaussian_noise = GaussianNoiseLayer(std_dev=0.0)\n",
        "        self.relu = nn.ReLU()\n",
        "        self.conv1 = nn.Conv2d(8, 16, kernel_size=3, stride=1, padding=1)\n",
        "        self.conv3 = nn.Conv2d(16, 16, kernel_size=3, stride=1, padding=1)\n",
        "        self.conv2 = nn.Conv2d(16, 32, kernel_size=3, stride=1, padding=1)\n",
        "        self.conv4 = nn.Conv2d(32, 32, kernel_size=3, stride=1, padding=1)\n",
        "        self.conv5 = nn.Conv2d(32, 64, kernel_size=3, stride=1, padding=1)\n",
        "        self.batch1 = nn.BatchNorm2d(16)\n",
        "        self.batch2 = nn.BatchNorm2d(32)\n",
        "        self.dropout = nn.Dropout(p=0.5)\n",
        "        self.softmax = nn.Softmax(dim=1)\n",
        "        self.fc1 = nn.Linear(32 * 8 * 8, 256)\n",
        "        self.fc2 = nn.Linear(256, 10)\n",
        "        # self.fc3 = nn.Linear(128, 10)\n",
        "        self.flatten = nn.Flatten()\n",
        "\n",
        "        self.encoder = nn.Sequential(\n",
        "            nn.Conv2d(3, 16, kernel_size=3, stride=2, padding=1),\n",
        "            nn.ReLU(),\n",
        "            nn.Conv2d(16, 8, kernel_size=3, stride=2, padding=1),\n",
        "            nn.ReLU()\n",
        "        )\n",
        "\n",
        "    def forward(self, x):\n",
        "        x = self.encoder(x)\n",
        "        x = (8*8*16)*x/torch.norm(x)\n",
        "        x = self.gaussian_noise(x)\n",
        "        x = self.conv1(x)\n",
        "        x = self.relu(x)\n",
        "        # x = self.batch1(x)\n",
        "        x = self.conv3(x)\n",
        "        x = self.relu(x)\n",
        "        # x = self.conv3(x)\n",
        "        # x = self.relu(x)\n",
        "        # x = self.batch1(x)\n",
        "        x = self.conv2(x)\n",
        "        x = self.relu(x)\n",
        "        x = self.conv4(x)\n",
        "        x = self.relu(x)\n",
        "\n",
        "        # x = self.conv5(x)\n",
        "        # x = self.relu(x)\n",
        "\n",
        "        # x = self.batch2(x)\n",
        "        x = self.flatten(x)\n",
        "        x = self.fc1(x)\n",
        "        x = self.relu(x)\n",
        "        # x = self.fc2(x)\n",
        "        # x = self.relu(x)\n",
        "        x = self.dropout(x)\n",
        "        x = self.fc2(x)\n",
        "        # x = self.softmax(x)\n",
        "        return x\n"
      ],
      "metadata": {
        "id": "lJuQZmbGIJTK"
      },
      "execution_count": null,
      "outputs": []
    },
    {
      "cell_type": "code",
      "source": [
        "# Set the number of classes in CIFAR-10\n",
        "num_classes = 10\n",
        "\n",
        "# Create an instance of the CNN model\n",
        "model = LatentSpaceClassfier().to(device)"
      ],
      "metadata": {
        "id": "EynbqDlHTYS2"
      },
      "execution_count": null,
      "outputs": []
    },
    {
      "cell_type": "code",
      "source": [
        "# define transforms for images\n",
        "transform = transforms.Compose(\n",
        "              [transforms.ToTensor(),\n",
        "              transforms.Normalize((0.5, 0.5, 0.5), (0.5, 0.5, 0.5))])"
      ],
      "metadata": {
        "id": "VRTXn3B7T97s"
      },
      "execution_count": null,
      "outputs": []
    },
    {
      "cell_type": "code",
      "source": [
        "cifar10_train = CIFAR10(root='./data', train=True, download=True, transform=transform)\n",
        "cifar10_test = CIFAR10(root='./data', train=False, download=True, transform=transform)\n",
        "\n",
        "train_loader = torch.utils.data.DataLoader(cifar10_train, batch_size=32, shuffle=True)\n",
        "test_loader = torch.utils.data.DataLoader(cifar10_test, batch_size=32, shuffle=True)\n"
      ],
      "metadata": {
        "colab": {
          "base_uri": "https://localhost:8080/"
        },
        "id": "I_2LmkTkUH9E",
        "outputId": "a44f2cc9-7a38-45c1-cd5c-762eac16463c"
      },
      "execution_count": null,
      "outputs": [
        {
          "output_type": "stream",
          "name": "stdout",
          "text": [
            "Files already downloaded and verified\n",
            "Files already downloaded and verified\n"
          ]
        }
      ]
    },
    {
      "cell_type": "code",
      "source": [
        "# Set the model to evaluation mode\n",
        "model.train()\n",
        "\n",
        "# Print the modified model architecture\n",
        "print(model)"
      ],
      "metadata": {
        "colab": {
          "base_uri": "https://localhost:8080/"
        },
        "id": "9piJpBkAUMIs",
        "outputId": "192c4938-e315-46ad-8ee8-c3a84da6dd0e"
      },
      "execution_count": null,
      "outputs": [
        {
          "output_type": "stream",
          "name": "stdout",
          "text": [
            "LatentSpaceClassfier(\n",
            "  (gaussian_noise): GaussianNoiseLayer()\n",
            "  (relu): ReLU()\n",
            "  (conv1): Conv2d(8, 16, kernel_size=(3, 3), stride=(1, 1), padding=(1, 1))\n",
            "  (conv3): Conv2d(16, 16, kernel_size=(3, 3), stride=(1, 1), padding=(1, 1))\n",
            "  (conv2): Conv2d(16, 32, kernel_size=(3, 3), stride=(1, 1), padding=(1, 1))\n",
            "  (conv4): Conv2d(32, 32, kernel_size=(3, 3), stride=(1, 1), padding=(1, 1))\n",
            "  (conv5): Conv2d(32, 64, kernel_size=(3, 3), stride=(1, 1), padding=(1, 1))\n",
            "  (batch1): BatchNorm2d(16, eps=1e-05, momentum=0.1, affine=True, track_running_stats=True)\n",
            "  (batch2): BatchNorm2d(32, eps=1e-05, momentum=0.1, affine=True, track_running_stats=True)\n",
            "  (dropout): Dropout(p=0.5, inplace=False)\n",
            "  (softmax): Softmax(dim=1)\n",
            "  (fc1): Linear(in_features=2048, out_features=256, bias=True)\n",
            "  (fc2): Linear(in_features=256, out_features=10, bias=True)\n",
            "  (flatten): Flatten(start_dim=1, end_dim=-1)\n",
            "  (encoder): Sequential(\n",
            "    (0): Conv2d(3, 16, kernel_size=(3, 3), stride=(2, 2), padding=(1, 1))\n",
            "    (1): ReLU()\n",
            "    (2): Conv2d(16, 8, kernel_size=(3, 3), stride=(2, 2), padding=(1, 1))\n",
            "    (3): ReLU()\n",
            "  )\n",
            ")\n"
          ]
        }
      ]
    },
    {
      "cell_type": "code",
      "source": [
        "\n",
        "from torchsummary import summary\n",
        "\n",
        "summary(model, (3, 32, 32))\n"
      ],
      "metadata": {
        "colab": {
          "base_uri": "https://localhost:8080/"
        },
        "id": "edOFMscFUkUb",
        "outputId": "ac2742d4-1140-4795-b5c2-142b3b3259e9"
      },
      "execution_count": null,
      "outputs": [
        {
          "output_type": "stream",
          "name": "stdout",
          "text": [
            "----------------------------------------------------------------\n",
            "        Layer (type)               Output Shape         Param #\n",
            "================================================================\n",
            "            Conv2d-1           [-1, 16, 16, 16]             448\n",
            "              ReLU-2           [-1, 16, 16, 16]               0\n",
            "            Conv2d-3              [-1, 8, 8, 8]           1,160\n",
            "              ReLU-4              [-1, 8, 8, 8]               0\n",
            "GaussianNoiseLayer-5              [-1, 8, 8, 8]               0\n",
            "            Conv2d-6             [-1, 16, 8, 8]           1,168\n",
            "              ReLU-7             [-1, 16, 8, 8]               0\n",
            "            Conv2d-8             [-1, 16, 8, 8]           2,320\n",
            "              ReLU-9             [-1, 16, 8, 8]               0\n",
            "           Conv2d-10             [-1, 32, 8, 8]           4,640\n",
            "             ReLU-11             [-1, 32, 8, 8]               0\n",
            "           Conv2d-12             [-1, 32, 8, 8]           9,248\n",
            "             ReLU-13             [-1, 32, 8, 8]               0\n",
            "          Flatten-14                 [-1, 2048]               0\n",
            "           Linear-15                  [-1, 256]         524,544\n",
            "             ReLU-16                  [-1, 256]               0\n",
            "          Dropout-17                  [-1, 256]               0\n",
            "           Linear-18                   [-1, 10]           2,570\n",
            "================================================================\n",
            "Total params: 546,098\n",
            "Trainable params: 546,098\n",
            "Non-trainable params: 0\n",
            "----------------------------------------------------------------\n",
            "Input size (MB): 0.01\n",
            "Forward/backward pass size (MB): 0.19\n",
            "Params size (MB): 2.08\n",
            "Estimated Total Size (MB): 2.28\n",
            "----------------------------------------------------------------\n"
          ]
        }
      ]
    },
    {
      "cell_type": "code",
      "source": [
        "# Define the optimizer and the initial learning rate\n",
        "optimizer = optimizer = optim.Adam(model.parameters(), lr=0.001)\n",
        "\n",
        "# Define the learning rate scheduler\n",
        "scheduler = optim.lr_scheduler.StepLR(optimizer, step_size=30, gamma=0.1)\n",
        "\n",
        "# Define the loss function\n",
        "criterion = nn.CrossEntropyLoss()"
      ],
      "metadata": {
        "id": "DZg5s8xMWP2o"
      },
      "execution_count": null,
      "outputs": []
    },
    {
      "cell_type": "code",
      "source": [
        "# Train the model\n",
        "num_epochs = 40\n",
        "# Lists to store loss values for plotting\n",
        "losses = []\n",
        "\n",
        "for epoch in range(num_epochs):\n",
        "    # Adjust the learning rate\n",
        "    model.train()\n",
        "\n",
        "    scheduler.step()\n",
        "    total = 0\n",
        "    correct = 0\n",
        "    total_loss = 0.0\n",
        "    # Train the model for one epoch\n",
        "    for images, labels in train_loader:\n",
        "        optimizer.zero_grad()\n",
        "        images = images.to(device)\n",
        "        labels = labels.to(device)\n",
        "        outputs = model(images)\n",
        "        _, predicted = torch.max(outputs.data, 1)\n",
        "        total += labels.size(0)\n",
        "        correct += (predicted == labels).sum().item()\n",
        "        loss = criterion(outputs, labels)\n",
        "        total_loss += loss.item()\n",
        "        loss.backward()\n",
        "        optimizer.step()\n",
        "    accuracy = correct / total\n",
        "    # Compute average loss for the epoch\n",
        "    avg_loss = total_loss / len(train_loader)\n",
        "    losses.append(avg_loss)\n",
        "    # Print the loss after each epoch\n",
        "    print(f\"Epoch [{epoch+1}/{num_epochs}], Loss: {loss.item()},Accuracy:{100 * accuracy:.2f}%\")\n",
        "\n",
        "    # Change learning rate after 25 epochs\n",
        "    if epoch == 30:\n",
        "        for param_group in optimizer.param_groups:\n",
        "            param_group['lr'] = 0.0001"
      ],
      "metadata": {
        "colab": {
          "base_uri": "https://localhost:8080/"
        },
        "id": "IVOkufskWXY2",
        "outputId": "56dceb55-3401-48c9-ced8-1487508eedad"
      },
      "execution_count": null,
      "outputs": [
        {
          "output_type": "stream",
          "name": "stdout",
          "text": [
            "Epoch [1/40], Loss: 1.4986178874969482,Accuracy:38.79%\n",
            "Epoch [2/40], Loss: 0.8187788128852844,Accuracy:49.76%\n",
            "Epoch [3/40], Loss: 0.8114129304885864,Accuracy:54.20%\n",
            "Epoch [4/40], Loss: 1.4382719993591309,Accuracy:57.70%\n",
            "Epoch [5/40], Loss: 0.899817943572998,Accuracy:60.20%\n",
            "Epoch [6/40], Loss: 0.9540510177612305,Accuracy:62.09%\n",
            "Epoch [7/40], Loss: 0.9085034728050232,Accuracy:63.63%\n",
            "Epoch [8/40], Loss: 1.274178385734558,Accuracy:65.35%\n",
            "Epoch [9/40], Loss: 1.573726773262024,Accuracy:66.46%\n",
            "Epoch [10/40], Loss: 1.3145601749420166,Accuracy:67.54%\n",
            "Epoch [11/40], Loss: 1.1271247863769531,Accuracy:68.31%\n",
            "Epoch [12/40], Loss: 1.2179853916168213,Accuracy:69.24%\n",
            "Epoch [13/40], Loss: 0.49981650710105896,Accuracy:70.26%\n",
            "Epoch [14/40], Loss: 1.3311123847961426,Accuracy:71.14%\n",
            "Epoch [15/40], Loss: 0.9373960494995117,Accuracy:71.57%\n",
            "Epoch [16/40], Loss: 0.3857816755771637,Accuracy:73.04%\n",
            "Epoch [17/40], Loss: 0.3188841938972473,Accuracy:73.43%\n",
            "Epoch [18/40], Loss: 0.5792578458786011,Accuracy:74.10%\n",
            "Epoch [19/40], Loss: 0.5460953712463379,Accuracy:74.35%\n",
            "Epoch [20/40], Loss: 0.46203330159187317,Accuracy:75.35%\n",
            "Epoch [21/40], Loss: 0.41190841794013977,Accuracy:75.77%\n",
            "Epoch [22/40], Loss: 0.8483788371086121,Accuracy:76.16%\n",
            "Epoch [23/40], Loss: 0.5398799777030945,Accuracy:76.91%\n",
            "Epoch [24/40], Loss: 1.2273391485214233,Accuracy:77.10%\n",
            "Epoch [25/40], Loss: 1.1428735256195068,Accuracy:77.70%\n",
            "Epoch [26/40], Loss: 0.45143595337867737,Accuracy:78.37%\n",
            "Epoch [27/40], Loss: 0.30503448843955994,Accuracy:78.32%\n",
            "Epoch [28/40], Loss: 0.7628496885299683,Accuracy:78.56%\n",
            "Epoch [29/40], Loss: 0.8328366279602051,Accuracy:79.10%\n",
            "Epoch [30/40], Loss: 0.3883579671382904,Accuracy:84.88%\n",
            "Epoch [31/40], Loss: 0.43059098720550537,Accuracy:87.15%\n",
            "Epoch [32/40], Loss: 0.39294371008872986,Accuracy:88.15%\n",
            "Epoch [33/40], Loss: 0.5567314624786377,Accuracy:88.85%\n",
            "Epoch [34/40], Loss: 0.6125015020370483,Accuracy:89.48%\n",
            "Epoch [35/40], Loss: 0.3864854872226715,Accuracy:89.99%\n",
            "Epoch [36/40], Loss: 0.5023395419120789,Accuracy:90.35%\n",
            "Epoch [37/40], Loss: 0.04500635713338852,Accuracy:90.94%\n",
            "Epoch [38/40], Loss: 0.9555996656417847,Accuracy:91.12%\n",
            "Epoch [39/40], Loss: 0.24607884883880615,Accuracy:91.12%\n",
            "Epoch [40/40], Loss: 0.06312394142150879,Accuracy:91.68%\n"
          ]
        }
      ]
    },
    {
      "cell_type": "code",
      "source": [
        "\n",
        "model.eval()  # Set the model to evaluation mode\n",
        "\n",
        "total = 0\n",
        "correct = 0\n",
        "\n",
        "with torch.no_grad():\n",
        "    for images, labels in test_loader:\n",
        "        # Forward pass\n",
        "        images = images.to(device)\n",
        "        labels = labels.to(device)\n",
        "\n",
        "        outputs = model(images)\n",
        "\n",
        "        # Get the predicted labels\n",
        "        _, predicted = torch.max(outputs.data, 1)\n",
        "\n",
        "        # Update total and correct predictions\n",
        "        total += labels.size(0)\n",
        "        correct += (predicted == labels).sum().item()\n",
        "\n",
        "# Calculate the accuracy\n",
        "accuracy = correct / total\n",
        "\n",
        "# Print the accuracy on the test set\n",
        "print(f\"Accuracy on the test set: {100 * accuracy:.2f}%\")\n"
      ],
      "metadata": {
        "colab": {
          "base_uri": "https://localhost:8080/"
        },
        "id": "64bJA4w1aGH6",
        "outputId": "00691078-5e15-4807-e22c-e370010058dc"
      },
      "execution_count": null,
      "outputs": [
        {
          "output_type": "stream",
          "name": "stdout",
          "text": [
            "Accuracy on the test set: 63.75%\n"
          ]
        }
      ]
    }
  ]
}