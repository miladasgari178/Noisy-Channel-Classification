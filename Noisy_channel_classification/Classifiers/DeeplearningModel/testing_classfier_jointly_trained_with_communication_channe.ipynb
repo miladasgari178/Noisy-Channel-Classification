{
  "nbformat": 4,
  "nbformat_minor": 0,
  "metadata": {
    "colab": {
      "provenance": [],
      "gpuType": "V100"
    },
    "kernelspec": {
      "name": "python3",
      "display_name": "Python 3"
    },
    "language_info": {
      "name": "python"
    }
  },
  "cells": [
    {
      "cell_type": "code",
      "execution_count": null,
      "metadata": {
        "id": "YKtsGu8lzR_t"
      },
      "outputs": [],
      "source": [
        "# imports\n",
        "import torch\n",
        "import torch.nn as nn\n",
        "import torch.optim as optim\n",
        "import torchvision\n",
        "import torchvision.transforms as transforms\n",
        "from torchvision.datasets import CIFAR10"
      ]
    },
    {
      "cell_type": "code",
      "source": [
        "#loading data and preprocessing\n",
        "\n",
        "# Define the transformation for preprocessing the data\n",
        "\n",
        "# define transforms for images\n",
        "transform = transforms.Compose(\n",
        "              [transforms.ToTensor(),\n",
        "              transforms.Normalize((0.5, 0.5, 0.5), (0.5, 0.5, 0.5))])\n",
        "\n",
        "# Load the CIFAR-100 training and test datasets\n",
        "\n",
        "cifar10_train = CIFAR10(root='./data', train=True, download=True, transform=transform)\n",
        "cifar10_test = CIFAR10(root='./data', train=False, download=True, transform=transform)\n",
        "\n",
        "train_loader = torch.utils.data.DataLoader(cifar10_train, batch_size=32, shuffle=True)\n",
        "test_loader = torch.utils.data.DataLoader(cifar10_test, batch_size=32, shuffle=True)"
      ],
      "metadata": {
        "colab": {
          "base_uri": "https://localhost:8080/"
        },
        "id": "vHSw5rWE1dPC",
        "outputId": "cc8d1d42-bfa4-4e9e-e2fa-e9378a3cdfd4"
      },
      "execution_count": null,
      "outputs": [
        {
          "output_type": "stream",
          "name": "stdout",
          "text": [
            "Files already downloaded and verified\n",
            "Files already downloaded and verified\n"
          ]
        }
      ]
    },
    {
      "cell_type": "code",
      "source": [
        "# define device\n",
        "device = torch.device(\"cuda\" if torch.cuda.is_available() else \"cpu\")"
      ],
      "metadata": {
        "id": "kSefbQaZ1etv"
      },
      "execution_count": null,
      "outputs": []
    },
    {
      "cell_type": "code",
      "source": [
        "import torchvision.models as models\n",
        "# Load the EfficientNetB0 model\n",
        "effnet = models.efficientnet_b0(pretrained=True)\n",
        "\n",
        "# Remove the last layer (classifier)\n",
        "effnet.classifier = torch.nn.Identity()"
      ],
      "metadata": {
        "id": "mW3kDpbo1iPc"
      },
      "execution_count": null,
      "outputs": []
    },
    {
      "cell_type": "code",
      "source": [
        "# define gausian noise\n",
        "class GaussianNoiseLayer(nn.Module):\n",
        "    def __init__(self, std_dev):\n",
        "        super(GaussianNoiseLayer, self).__init__()\n",
        "        self.std_dev = std_dev\n",
        "    def forward(self, x):\n",
        "        noise = torch.randn_like(x) * self.std_dev\n",
        "        return x + noise\n",
        "\n",
        "# define communication model with std 0.1\n",
        "class Autoencoder(nn.Module):\n",
        "    def __init__(self):\n",
        "        super(Autoencoder, self).__init__()\n",
        "        self.gaussian_noise = GaussianNoiseLayer(std_dev=0.1)\n",
        "        self.encoder = nn.Sequential(\n",
        "            nn.Conv2d(3, 16, kernel_size=3, stride=2, padding=1),\n",
        "            nn.ReLU(),\n",
        "            nn.Conv2d(16, 8, kernel_size=3, stride=2, padding=1),\n",
        "            nn.ReLU()\n",
        "        )\n",
        "        self.decoder = nn.Sequential(\n",
        "            nn.ConvTranspose2d(8, 16, kernel_size=3, stride=2, padding=1, output_padding=1),\n",
        "            nn.ReLU(),\n",
        "            nn.ConvTranspose2d(16, 3, kernel_size=3, stride=2, padding=1, output_padding=1),\n",
        "            nn.Tanh()\n",
        "        )\n",
        "\n",
        "\n",
        "    def forward(self, x):\n",
        "        x = self.encoder(x)\n",
        "        x = (8*8*8)*x/torch.norm(x)\n",
        "        x = self.gaussian_noise(x)\n",
        "        x = self.decoder(x)\n",
        "\n",
        "        return x\n"
      ],
      "metadata": {
        "id": "P81L18n_1x2I"
      },
      "execution_count": null,
      "outputs": []
    },
    {
      "cell_type": "code",
      "source": [
        "import os\n",
        "\n",
        "# Get the current working directory\n",
        "current_path = os.getcwd()\n",
        "\n",
        "# Load the trained weights\n",
        "path=current_path+'/comm_model_std01.pt'\n",
        "\n",
        "comm_model1  = torch.load(path)\n",
        "\n",
        "comm_model1.to(device)"
      ],
      "metadata": {
        "colab": {
          "base_uri": "https://localhost:8080/"
        },
        "id": "TRQYKfKy2tI5",
        "outputId": "80be0c79-c017-45a8-d64b-760ba60152f4"
      },
      "execution_count": null,
      "outputs": [
        {
          "output_type": "execute_result",
          "data": {
            "text/plain": [
              "Autoencoder(\n",
              "  (gaussian_noise): GaussianNoiseLayer()\n",
              "  (encoder): Sequential(\n",
              "    (0): Conv2d(3, 16, kernel_size=(3, 3), stride=(2, 2), padding=(1, 1))\n",
              "    (1): ReLU()\n",
              "    (2): Conv2d(16, 8, kernel_size=(3, 3), stride=(2, 2), padding=(1, 1))\n",
              "    (3): ReLU()\n",
              "  )\n",
              "  (decoder): Sequential(\n",
              "    (0): ConvTranspose2d(8, 16, kernel_size=(3, 3), stride=(2, 2), padding=(1, 1), output_padding=(1, 1))\n",
              "    (1): ReLU()\n",
              "    (2): ConvTranspose2d(16, 3, kernel_size=(3, 3), stride=(2, 2), padding=(1, 1), output_padding=(1, 1))\n",
              "    (3): Tanh()\n",
              "  )\n",
              ")"
            ]
          },
          "metadata": {},
          "execution_count": 30
        }
      ]
    },
    {
      "cell_type": "code",
      "source": [
        "# Freeze the parameters of the communication model\n",
        "for param in comm_model1.parameters():\n",
        "    param.requires_grad = False"
      ],
      "metadata": {
        "id": "DfC7teMC4X_s"
      },
      "execution_count": null,
      "outputs": []
    },
    {
      "cell_type": "code",
      "source": [
        "class Cifar10ClassfierModel(nn.Module):\n",
        "    def __init__(self, effnet, num_classes):\n",
        "        super(Cifar10ClassfierModel, self).__init__()\n",
        "        self.effnet = effnet\n",
        "        self.relu = nn.ReLU()\n",
        "        self.batch_norm = nn.BatchNorm2d(1280)\n",
        "        self.dropout = nn.Dropout(p=0.5)\n",
        "        self.dense1 = nn.Linear(1280, 640)\n",
        "        self.dense2 = nn.Linear(640, 320)\n",
        "        self.dense3 = nn.Linear(320, 160)\n",
        "        self.dense4 = nn.Linear(160, 10)\n",
        "        self.dense = nn.Linear(1280, num_classes)\n",
        "        self.sigmoid = nn.Sigmoid()\n",
        "\n",
        "    def forward(self, x):\n",
        "        x = self.effnet(x)\n",
        "        x = self.dense1(x)\n",
        "        x = self.relu(x)\n",
        "        x = self.dense2(x)\n",
        "        x = self.relu(x)\n",
        "        x = self.dense3(x)\n",
        "        x = self.relu(x)\n",
        "        x = self.dropout(x)\n",
        "        x = self.dense4(x)\n",
        "        # x = self.sigmoid(x)\n",
        "        return x"
      ],
      "metadata": {
        "id": "nBbat5n11qK4"
      },
      "execution_count": null,
      "outputs": []
    },
    {
      "cell_type": "code",
      "source": [
        "num_classes = 10  # Replace with the desired number of output classes\n",
        "classifier = Cifar10ClassfierModel(effnet, num_classes)\n",
        "\n",
        "# Set the model to evaluation mode\n",
        "classifier.train()\n",
        "\n",
        "# Print the modified model architecture\n",
        "print(classifier)\n",
        "\n",
        "classifier.to(device)"
      ],
      "metadata": {
        "id": "REvA26UD4QRC"
      },
      "execution_count": null,
      "outputs": []
    },
    {
      "cell_type": "code",
      "source": [
        "# Define the optimizer and the initial learning rate\n",
        "optimizer = optimizer = optim.Adam(classifier.parameters(), lr=0.0001)\n",
        "\n",
        "# Define the learning rate scheduler\n",
        "scheduler = optim.lr_scheduler.StepLR(optimizer, step_size=70, gamma=0.1)\n",
        "\n",
        "# Define the loss function\n",
        "criterion = nn.CrossEntropyLoss()"
      ],
      "metadata": {
        "id": "zb5OeoNg6Jeq"
      },
      "execution_count": null,
      "outputs": []
    },
    {
      "cell_type": "code",
      "source": [
        "# train classifier on noisy image passed through channel with gausian noise 0.1\n",
        "num_epochs = 20\n",
        "for epoch in range(num_epochs):\n",
        "    # Adjust the learning rate\n",
        "    classifier.train()\n",
        "    scheduler.step()\n",
        "    total = 0\n",
        "    correct = 0\n",
        "    # Train the model for one epoch\n",
        "    for images, labels in train_loader:\n",
        "        optimizer.zero_grad()\n",
        "        labels = labels.to(device)\n",
        "        images = images.to(device)\n",
        "        n_images = comm_model1(images)\n",
        "        n_images.to(device)\n",
        "        outputs = classifier(n_images)\n",
        "        _, predicted = torch.max(outputs.data, 1)\n",
        "        total += labels.size(0)\n",
        "        correct += (predicted == labels).sum().item()\n",
        "        loss = criterion(outputs, labels)\n",
        "        loss.backward()\n",
        "        optimizer.step()\n",
        "    accuracy = correct / total\n",
        "    # Print the loss after each epoch\n",
        "    print(f\"Epoch [{epoch+1}/{num_epochs}], Loss: {loss.item()},Accuracy:{100 * accuracy:.2f}%\")\n",
        "\n",
        "    # Change learning rate after 25 epochs\n",
        "    if epoch == 70:\n",
        "        for param_group in optimizer.param_groups:\n",
        "            param_group['lr'] = 0.00001\n",
        "\n",
        "print('Finished training')\n",
        "\n",
        "# Evaluate the model on the test set\n",
        "classifier.eval()\n",
        "correct = 0\n",
        "total = 0\n",
        "with torch.no_grad():\n",
        "    for data in test_loader:\n",
        "        images, labels = data\n",
        "        images, labels = images.to(device), labels.to(device)\n",
        "        n_images = comm_model1(images)\n",
        "        n_images.to(device)\n",
        "        outputs = classifier(n_images)\n",
        "        _, predicted = torch.max(outputs.data, 1)\n",
        "        total += labels.size(0)\n",
        "        correct += (predicted == labels).sum().item()\n",
        "\n",
        "accuracy = 100 * correct / total\n",
        "print('Accuracy on the test set: %.2f %%' % accuracy)"
      ],
      "metadata": {
        "colab": {
          "base_uri": "https://localhost:8080/"
        },
        "id": "VW8b4BBc6QM8",
        "outputId": "173142f0-a530-4170-cb9e-2eba81b440ac"
      },
      "execution_count": null,
      "outputs": [
        {
          "output_type": "stream",
          "name": "stdout",
          "text": [
            "Epoch [1/20], Loss: 1.7136214971542358,Accuracy:44.26%\n",
            "Epoch [2/20], Loss: 0.8692020177841187,Accuracy:62.03%\n",
            "Epoch [3/20], Loss: 1.3526527881622314,Accuracy:67.18%\n",
            "Epoch [4/20], Loss: 1.1034802198410034,Accuracy:71.02%\n",
            "Epoch [5/20], Loss: 0.9938765168190002,Accuracy:73.91%\n",
            "Epoch [6/20], Loss: 0.6535024642944336,Accuracy:76.25%\n",
            "Epoch [7/20], Loss: 0.7966820001602173,Accuracy:78.02%\n",
            "Epoch [8/20], Loss: 0.9075096845626831,Accuracy:79.68%\n",
            "Epoch [9/20], Loss: 0.6211148500442505,Accuracy:81.05%\n",
            "Epoch [10/20], Loss: 0.43409982323646545,Accuracy:82.88%\n",
            "Epoch [11/20], Loss: 0.5064211487770081,Accuracy:83.89%\n",
            "Epoch [12/20], Loss: 0.5413274765014648,Accuracy:84.82%\n",
            "Epoch [13/20], Loss: 0.3358219861984253,Accuracy:85.80%\n",
            "Epoch [14/20], Loss: 1.7257121801376343,Accuracy:87.40%\n",
            "Epoch [15/20], Loss: 0.6910967230796814,Accuracy:87.79%\n",
            "Epoch [16/20], Loss: 0.29653626680374146,Accuracy:88.66%\n",
            "Epoch [17/20], Loss: 0.9794277548789978,Accuracy:89.59%\n",
            "Epoch [18/20], Loss: 0.21595746278762817,Accuracy:90.03%\n",
            "Epoch [19/20], Loss: 0.40071144700050354,Accuracy:90.84%\n",
            "Epoch [20/20], Loss: 0.463787317276001,Accuracy:91.33%\n",
            "Finished training\n",
            "Accuracy on the test set: 79.18 %\n"
          ]
        }
      ]
    },
    {
      "cell_type": "code",
      "source": [
        "# Evaluate the model on the test set based on image pased through channel with gausian noise 0.1\n",
        "classifier.eval()\n",
        "correct = 0\n",
        "total = 0\n",
        "with torch.no_grad():\n",
        "    for data in test_loader:\n",
        "        images, labels = data\n",
        "        images, labels = images.to(device), labels.to(device)\n",
        "        n_images = comm_model1(images)\n",
        "        n_images.to(device)\n",
        "        outputs = classifier(n_images)\n",
        "        _, predicted = torch.max(outputs.data, 1)\n",
        "        total += labels.size(0)\n",
        "        correct += (predicted == labels).sum().item()\n",
        "\n",
        "accuracy = 100 * correct / total\n",
        "print('Accuracy on the test set: %.2f %%' % accuracy)"
      ],
      "metadata": {
        "colab": {
          "base_uri": "https://localhost:8080/"
        },
        "id": "yQe2VQQS_9qY",
        "outputId": "5b79650a-e315-4744-a1f5-2bb7f5762790"
      },
      "execution_count": null,
      "outputs": [
        {
          "output_type": "stream",
          "name": "stdout",
          "text": [
            "Accuracy on the test set: 79.24 %\n"
          ]
        }
      ]
    },
    {
      "cell_type": "code",
      "source": [
        "# define communication model with std 0.6\n",
        "class Autoencoder(nn.Module):\n",
        "    def __init__(self):\n",
        "        super(Autoencoder, self).__init__()\n",
        "        self.gaussian_noise = GaussianNoiseLayer(std_dev=0.6)\n",
        "        self.encoder = nn.Sequential(\n",
        "            nn.Conv2d(3, 16, kernel_size=3, stride=2, padding=1),\n",
        "            nn.ReLU(),\n",
        "            nn.Conv2d(16, 8, kernel_size=3, stride=2, padding=1),\n",
        "            nn.ReLU()\n",
        "        )\n",
        "        self.decoder = nn.Sequential(\n",
        "            nn.ConvTranspose2d(8, 16, kernel_size=3, stride=2, padding=1, output_padding=1),\n",
        "            nn.ReLU(),\n",
        "            nn.ConvTranspose2d(16, 3, kernel_size=3, stride=2, padding=1, output_padding=1),\n",
        "            nn.Tanh()\n",
        "        )\n",
        "\n",
        "\n",
        "    def forward(self, x):\n",
        "        x = self.encoder(x)\n",
        "        x = (8*8*8)*x/torch.norm(x)\n",
        "        x = self.gaussian_noise(x)\n",
        "        x = self.decoder(x)\n",
        "\n",
        "        return x\n",
        "\n"
      ],
      "metadata": {
        "id": "2c4y6hjEGeS1"
      },
      "execution_count": null,
      "outputs": []
    },
    {
      "cell_type": "code",
      "source": [
        "import os\n",
        "\n",
        "# Get the current working directory\n",
        "current_path = os.getcwd()\n",
        "\n",
        "# Load the trained weights\n",
        "path=current_path+'/comm_model_std06.pt'\n",
        "\n",
        "comm_model6  = torch.load(path)\n",
        "\n",
        "comm_model6.to(device)"
      ],
      "metadata": {
        "colab": {
          "base_uri": "https://localhost:8080/"
        },
        "id": "x2IOpoiAHOyl",
        "outputId": "f69ffc56-3609-4569-d24e-065538376cf5"
      },
      "execution_count": null,
      "outputs": [
        {
          "output_type": "execute_result",
          "data": {
            "text/plain": [
              "Autoencoder(\n",
              "  (gaussian_noise): GaussianNoiseLayer()\n",
              "  (encoder): Sequential(\n",
              "    (0): Conv2d(3, 16, kernel_size=(3, 3), stride=(2, 2), padding=(1, 1))\n",
              "    (1): ReLU()\n",
              "    (2): Conv2d(16, 8, kernel_size=(3, 3), stride=(2, 2), padding=(1, 1))\n",
              "    (3): ReLU()\n",
              "  )\n",
              "  (decoder): Sequential(\n",
              "    (0): ConvTranspose2d(8, 16, kernel_size=(3, 3), stride=(2, 2), padding=(1, 1), output_padding=(1, 1))\n",
              "    (1): ReLU()\n",
              "    (2): ConvTranspose2d(16, 3, kernel_size=(3, 3), stride=(2, 2), padding=(1, 1), output_padding=(1, 1))\n",
              "    (3): Tanh()\n",
              "  )\n",
              ")"
            ]
          },
          "metadata": {},
          "execution_count": 38
        }
      ]
    },
    {
      "cell_type": "code",
      "source": [
        "# Evaluate the model (trained with gausian noise with std 0.1) on the test set based on image pased through channel with gausian noise 0.6\n",
        "classifier.eval()\n",
        "correct = 0\n",
        "total = 0\n",
        "with torch.no_grad():\n",
        "    for data in test_loader:\n",
        "        images, labels = data\n",
        "        images, labels = images.to(device), labels.to(device)\n",
        "        n_images = comm_model6(images)\n",
        "        n_images.to(device)\n",
        "        outputs = classifier(n_images)\n",
        "        _, predicted = torch.max(outputs.data, 1)\n",
        "        total += labels.size(0)\n",
        "        correct += (predicted == labels).sum().item()\n",
        "\n",
        "accuracy = 100 * correct / total\n",
        "print('Accuracy on the test set: %.2f %%' % accuracy)"
      ],
      "metadata": {
        "colab": {
          "base_uri": "https://localhost:8080/"
        },
        "id": "LPEOGimGHb-c",
        "outputId": "e7cc9bdf-7693-41a5-8f95-696d6e30bb5f"
      },
      "execution_count": null,
      "outputs": [
        {
          "output_type": "stream",
          "name": "stdout",
          "text": [
            "Accuracy on the test set: 68.37 %\n"
          ]
        }
      ]
    },
    {
      "cell_type": "code",
      "source": [
        "# define communication model with std 0.0\n",
        "class Autoencoder(nn.Module):\n",
        "    def __init__(self):\n",
        "        super(Autoencoder, self).__init__()\n",
        "        self.gaussian_noise = GaussianNoiseLayer(std_dev=0.0)\n",
        "        self.encoder = nn.Sequential(\n",
        "            nn.Conv2d(3, 16, kernel_size=3, stride=2, padding=1),\n",
        "            nn.ReLU(),\n",
        "            nn.Conv2d(16, 8, kernel_size=3, stride=2, padding=1),\n",
        "            nn.ReLU()\n",
        "        )\n",
        "        self.decoder = nn.Sequential(\n",
        "            nn.ConvTranspose2d(8, 16, kernel_size=3, stride=2, padding=1, output_padding=1),\n",
        "            nn.ReLU(),\n",
        "            nn.ConvTranspose2d(16, 3, kernel_size=3, stride=2, padding=1, output_padding=1),\n",
        "            nn.Tanh()\n",
        "        )\n",
        "\n",
        "\n",
        "    def forward(self, x):\n",
        "        x = self.encoder(x)\n",
        "        x = (8*8*8)*x/torch.norm(x)\n",
        "        x = self.gaussian_noise(x)\n",
        "        x = self.decoder(x)\n",
        "\n",
        "        return x\n",
        "\n"
      ],
      "metadata": {
        "id": "unHmuG10H1tT"
      },
      "execution_count": null,
      "outputs": []
    },
    {
      "cell_type": "code",
      "source": [
        "import os\n",
        "\n",
        "# Get the current working directory\n",
        "current_path = os.getcwd()\n",
        "\n",
        "# Load the trained weights\n",
        "path=current_path+'/comm_model_std00.pt'\n",
        "\n",
        "comm_model0  = torch.load(path)\n",
        "\n",
        "comm_model0.to(device)"
      ],
      "metadata": {
        "colab": {
          "base_uri": "https://localhost:8080/"
        },
        "id": "Z3-UsG12H-QP",
        "outputId": "f9bf525e-1665-4b7b-d9c0-dafec53fade9"
      },
      "execution_count": null,
      "outputs": [
        {
          "output_type": "execute_result",
          "data": {
            "text/plain": [
              "Autoencoder(\n",
              "  (gaussian_noise): GaussianNoiseLayer()\n",
              "  (encoder): Sequential(\n",
              "    (0): Conv2d(3, 16, kernel_size=(3, 3), stride=(2, 2), padding=(1, 1))\n",
              "    (1): ReLU()\n",
              "    (2): Conv2d(16, 8, kernel_size=(3, 3), stride=(2, 2), padding=(1, 1))\n",
              "    (3): ReLU()\n",
              "  )\n",
              "  (decoder): Sequential(\n",
              "    (0): ConvTranspose2d(8, 16, kernel_size=(3, 3), stride=(2, 2), padding=(1, 1), output_padding=(1, 1))\n",
              "    (1): ReLU()\n",
              "    (2): ConvTranspose2d(16, 3, kernel_size=(3, 3), stride=(2, 2), padding=(1, 1), output_padding=(1, 1))\n",
              "    (3): Tanh()\n",
              "  )\n",
              ")"
            ]
          },
          "metadata": {},
          "execution_count": 41
        }
      ]
    },
    {
      "cell_type": "code",
      "source": [
        "# Evaluate the model (trained with gausian noise with std 0.1) on the test set based on image pased through channel with gausian noise 0.0\n",
        "classifier.eval()\n",
        "correct = 0\n",
        "total = 0\n",
        "with torch.no_grad():\n",
        "    for data in test_loader:\n",
        "        images, labels = data\n",
        "        images, labels = images.to(device), labels.to(device)\n",
        "        n_images = comm_model0(images)\n",
        "        n_images.to(device)\n",
        "        outputs = classifier(n_images)\n",
        "        _, predicted = torch.max(outputs.data, 1)\n",
        "        total += labels.size(0)\n",
        "        correct += (predicted == labels).sum().item()\n",
        "\n",
        "accuracy = 100 * correct / total\n",
        "print('Accuracy on the test set: %.2f %%' % accuracy)"
      ],
      "metadata": {
        "colab": {
          "base_uri": "https://localhost:8080/"
        },
        "id": "7EipYZTIIZTQ",
        "outputId": "6e0f268e-c0fb-48c8-d155-5c0f34f823ce"
      },
      "execution_count": null,
      "outputs": [
        {
          "output_type": "stream",
          "name": "stdout",
          "text": [
            "Accuracy on the test set: 73.89 %\n"
          ]
        }
      ]
    },
    {
      "cell_type": "code",
      "source": [
        "classifier2 = Cifar10ClassfierModel(effnet, num_classes)\n",
        "\n",
        "# Set the model to evaluation mode\n",
        "classifier2.train()\n",
        "\n",
        "# Print the modified model architecture\n",
        "print(classifier2)\n",
        "\n",
        "classifier2.to(device)"
      ],
      "metadata": {
        "id": "Bp029dd1Iw8v"
      },
      "execution_count": null,
      "outputs": []
    },
    {
      "cell_type": "code",
      "source": [
        "# train classifier on noisy image passed through channel with gausian noise 0.6\n",
        "num_epochs = 20\n",
        "for epoch in range(num_epochs):\n",
        "    # Adjust the learning rate\n",
        "    classifier2.train()\n",
        "    scheduler.step()\n",
        "    total = 0\n",
        "    correct = 0\n",
        "    # Train the model for one epoch\n",
        "    for images, labels in train_loader:\n",
        "        optimizer.zero_grad()\n",
        "        labels = labels.to(device)\n",
        "        images = images.to(device)\n",
        "        n_images = comm_model6(images)\n",
        "        n_images.to(device)\n",
        "        outputs = classifier2(n_images)\n",
        "        _, predicted = torch.max(outputs.data, 1)\n",
        "        total += labels.size(0)\n",
        "        correct += (predicted == labels).sum().item()\n",
        "        loss = criterion(outputs, labels)\n",
        "        loss.backward()\n",
        "        optimizer.step()\n",
        "    accuracy = correct / total\n",
        "    # Print the loss after each epoch\n",
        "    print(f\"Epoch [{epoch+1}/{num_epochs}], Loss: {loss.item()},Accuracy:{100 * accuracy:.2f}%\")\n",
        "\n",
        "    # Change learning rate after 25 epochs\n",
        "    if epoch == 70:\n",
        "        for param_group in optimizer.param_groups:\n",
        "            param_group['lr'] = 0.00001\n",
        "\n",
        "print('Finished training')\n",
        "\n",
        "# Evaluate the model on the test set\n",
        "classifier2.eval()\n",
        "correct = 0\n",
        "total = 0\n",
        "with torch.no_grad():\n",
        "    for data in test_loader:\n",
        "        images, labels = data\n",
        "        images, labels = images.to(device), labels.to(device)\n",
        "        n_images = comm_model6(images)\n",
        "        n_images.to(device)\n",
        "        outputs = classifier2(n_images)\n",
        "        _, predicted = torch.max(outputs.data, 1)\n",
        "        total += labels.size(0)\n",
        "        correct += (predicted == labels).sum().item()\n",
        "\n",
        "accuracy = 100 * correct / total\n",
        "print('Accuracy on the test set: %.2f %%' % accuracy)"
      ],
      "metadata": {
        "colab": {
          "base_uri": "https://localhost:8080/"
        },
        "id": "nf2QMIkpI6Zf",
        "outputId": "5d42f63e-a557-4bdc-fa55-c129d0676b0d"
      },
      "execution_count": null,
      "outputs": [
        {
          "output_type": "stream",
          "name": "stdout",
          "text": [
            "Epoch [1/20], Loss: 2.137986660003662,Accuracy:21.02%\n",
            "Epoch [2/20], Loss: 1.8213571310043335,Accuracy:44.76%\n",
            "Epoch [3/20], Loss: 1.8431624174118042,Accuracy:56.95%\n",
            "Epoch [4/20], Loss: 1.8054453134536743,Accuracy:63.40%\n",
            "Epoch [5/20], Loss: 1.8738234043121338,Accuracy:68.01%\n",
            "Epoch [6/20], Loss: 1.9457108974456787,Accuracy:69.92%\n",
            "Epoch [7/20], Loss: 2.0031895637512207,Accuracy:71.74%\n",
            "Epoch [8/20], Loss: 1.7076064348220825,Accuracy:73.32%\n",
            "Epoch [9/20], Loss: 1.5045374631881714,Accuracy:74.49%\n",
            "Epoch [10/20], Loss: 1.7739430665969849,Accuracy:75.47%\n",
            "Epoch [11/20], Loss: 1.6848034858703613,Accuracy:76.00%\n",
            "Epoch [12/20], Loss: 1.4785118103027344,Accuracy:77.15%\n",
            "Epoch [13/20], Loss: 1.376766324043274,Accuracy:78.28%\n",
            "Epoch [14/20], Loss: 1.3885983228683472,Accuracy:79.12%\n",
            "Epoch [15/20], Loss: 1.448828935623169,Accuracy:80.05%\n",
            "Epoch [16/20], Loss: 1.4075216054916382,Accuracy:81.15%\n",
            "Epoch [17/20], Loss: 1.6227729320526123,Accuracy:81.49%\n",
            "Epoch [18/20], Loss: 1.3016983270645142,Accuracy:82.21%\n",
            "Epoch [19/20], Loss: 1.4439520835876465,Accuracy:82.69%\n",
            "Epoch [20/20], Loss: 1.4608036279678345,Accuracy:83.15%\n",
            "Finished training\n",
            "Accuracy on the test set: 75.96 %\n"
          ]
        }
      ]
    },
    {
      "cell_type": "code",
      "source": [
        "# Evaluate the model on the test set based on image pased through channel with gausian noise 0.6\n",
        "classifier2.eval()\n",
        "correct = 0\n",
        "total = 0\n",
        "with torch.no_grad():\n",
        "    for data in test_loader:\n",
        "        images, labels = data\n",
        "        images, labels = images.to(device), labels.to(device)\n",
        "        n_images = comm_model6(images)\n",
        "        n_images.to(device)\n",
        "        outputs = classifier2(n_images)\n",
        "        _, predicted = torch.max(outputs.data, 1)\n",
        "        total += labels.size(0)\n",
        "        correct += (predicted == labels).sum().item()\n",
        "\n",
        "accuracy = 100 * correct / total\n",
        "print('Accuracy on the test set: %.2f %%' % accuracy)"
      ],
      "metadata": {
        "colab": {
          "base_uri": "https://localhost:8080/"
        },
        "id": "WlbgbZKcP8ba",
        "outputId": "a0bf48ce-bd42-40aa-8e4a-b547f5b18894"
      },
      "execution_count": null,
      "outputs": [
        {
          "output_type": "stream",
          "name": "stdout",
          "text": [
            "Accuracy on the test set: 75.93 %\n"
          ]
        }
      ]
    },
    {
      "cell_type": "code",
      "source": [
        "# Evaluate the model (trained with gausian noise with std 0.6) on the test set based on image pased through channel with gausian noise 0.1\n",
        "classifier2.eval()\n",
        "correct = 0\n",
        "total = 0\n",
        "with torch.no_grad():\n",
        "    for data in test_loader:\n",
        "        images, labels = data\n",
        "        images, labels = images.to(device), labels.to(device)\n",
        "        n_images = comm_model0(images)\n",
        "        n_images.to(device)\n",
        "        outputs = classifier2(n_images)\n",
        "        _, predicted = torch.max(outputs.data, 1)\n",
        "        total += labels.size(0)\n",
        "        correct += (predicted == labels).sum().item()\n",
        "\n",
        "accuracy = 100 * correct / total\n",
        "print('Accuracy on the test set: %.2f %%' % accuracy)"
      ],
      "metadata": {
        "colab": {
          "base_uri": "https://localhost:8080/"
        },
        "id": "4I-wzYEDQRL9",
        "outputId": "67b70c32-435a-4285-ccd6-7fc640019aa4"
      },
      "execution_count": null,
      "outputs": [
        {
          "output_type": "stream",
          "name": "stdout",
          "text": [
            "Accuracy on the test set: 77.06 %\n"
          ]
        }
      ]
    }
  ]
}